{
 "cells": [
  {
   "cell_type": "code",
   "execution_count": null,
   "metadata": {},
   "outputs": [],
   "source": [
    "import os\n",
    "import pandas\n",
    "import json\n",
    "import folium\n",
    "import numpy as np"
   ]
  },
  {
   "cell_type": "code",
   "execution_count": null,
   "metadata": {},
   "outputs": [],
   "source": [
    "cantons_geo_path = r'topojson/ch-cantons.topojson.json'\n",
    "cantons_json_data = json.load(open(cantons_geo_path))"
   ]
  },
  {
   "cell_type": "code",
   "execution_count": null,
   "metadata": {},
   "outputs": [],
   "source": [
    "europe_geo_path = r'topojson/europe.topojson.json'\n",
    "europe_json_data = json.load(open(europe_geo_path))"
   ]
  },
  {
   "cell_type": "code",
   "execution_count": null,
   "metadata": {},
   "outputs": [],
   "source": [
    "for key in cantons_json_data['objects']:\n",
    "    print(\"key: %s , \" % key)\n",
    "\n",
    "\n",
    "# cantons_json_data keys: 'type', 'transform', 'objects', 'arcs'\n",
    "# cantons_json_data['type'] = Topology\n",
    "# cantons_json_data['transform'] keys: 'scale', 'translate'\n",
    "# cantons_json_data['objects'] keys: cantons\n",
    "# cantons_json_data['arcs'] keys: boundaries for each canton\n",
    "\n",
    "\n"
   ]
  },
  {
   "cell_type": "markdown",
   "metadata": {},
   "source": [
    "> **Short Description** \n",
    "\n",
    "Unemployment rates represent unemployed persons as a percentage of the labour force. The labour force is the total number of people employed and unemployed. Unemployed persons comprise persons aged 15 to 74 who were: a. without work during the reference week, b. currently available for work, i.e. were available for paid employment or self-employment before the end of the two weeks following the reference week, c. actively seeking work, i.e. had taken specific steps in the four weeks period ending with the reference week to seek paid employment or self-employment or who found a job to start later, i.e. within a period of, at most, three months. This table does not only show unemployment rates but also unemployed in 1000 and as % of the total population."
   ]
  },
  {
   "cell_type": "code",
   "execution_count": null,
   "metadata": {},
   "outputs": [],
   "source": [
    "io = 'Eurostat_Table_Active_Population.xls'\n",
    "na_values= [':', '(i)', '(p)']\n",
    "df = pandas.read_excel(io, skiprows=range(3), skip_footer=9, \n",
    "                          na_values=na_values, header=0)\n",
    "\n",
    "\n",
    "df = df.rename(columns={'geo\\\\time': 'country'})\n",
    "df = df.set_index('country')\n",
    "df = df.iloc[4:, 0:len(df.columns):2]\n",
    "\n",
    "df.head()"
   ]
  },
  {
   "cell_type": "code",
   "execution_count": null,
   "metadata": {},
   "outputs": [],
   "source": [
    "q = list(df['2016'].quantile([.05, .235, .655, .774, .9455]))\n",
    "\n",
    "geometries = []\n",
    "\n",
    "c_json = []\n",
    "for key in europe_json_data['objects']['europe']['geometries']:\n",
    "    country = key['properties']['NAME']\n",
    "    c_json.append(country)\n",
    "    if country in df.index:\n",
    "        geometries.append(key)\n",
    "        \n",
    "europe_json_data['objects']['europe']['geometries'] = geometries"
   ]
  },
  {
   "cell_type": "code",
   "execution_count": null,
   "metadata": {},
   "outputs": [],
   "source": [
    "m_europe = folium.Map(location=[46, 15], tiles='cartodbpositron', zoom_start =4)\n",
    "m_europe.choropleth(geo_data=europe_json_data, data=df.reset_index(),\n",
    "                columns = ['country', '2016'],\n",
    "                threshold_scale = q,\n",
    "                key_on='feature.properties.NAME',\n",
    "                topojson='objects.europe',\n",
    "                fill_color='YlGn',\n",
    "                fill_opacity=0.7,\n",
    "                line_opacity=0.2,\n",
    "                legend_name='Unemployment Rate (%)')\n",
    "\n",
    "m_europe"
   ]
  },
  {
   "cell_type": "code",
   "execution_count": null,
   "metadata": {},
   "outputs": [],
   "source": [
    "io = 'Eurostat_Table_Total_Population.xls'\n",
    "na_values= [':', '(i)', '(p)']\n",
    "df = pandas.read_excel(io, skiprows=range(3), skip_footer=9, \n",
    "                          na_values=na_values, header=0)\n",
    "\n",
    "\n",
    "df = df.rename(columns={'geo\\\\time': 'country'})\n",
    "df = df.set_index('country')\n",
    "df = df.iloc[4:, 0:len(df.columns):2]\n",
    "\n",
    "df.loc[:, '1999':'2016'].head()"
   ]
  },
  {
   "cell_type": "code",
   "execution_count": null,
   "metadata": {},
   "outputs": [],
   "source": [
    "io = 'Unemployment_Rates_CH_2016.xlsx'\n",
    "df = pandas.read_excel(io, skiprows=range(2), skip_footer=1, header=0)\n",
    "\n",
    "\n",
    "df = df.loc[:, ['Canton', 'Total']]\n",
    "df = df.drop(df.index[0])\n",
    "df = df.reset_index().drop('index', axis=1)\n",
    "df['Total'] = df['Total'].astype('float64', copy=False, errors='ignore')\n",
    "\n",
    "ids = []\n",
    "for canton in cantons_json_data['objects']['cantons']['geometries']:\n",
    "    ids.append(canton['id'])\n",
    "\n",
    "df['ID'] = pandas.Series(ids, name='IDs', dtype=str, copy=False)\n",
    "\n",
    "df.head()"
   ]
  },
  {
   "cell_type": "code",
   "execution_count": null,
   "metadata": {},
   "outputs": [],
   "source": [
    "q = list(df['Total'].quantile([0, .15, .4, .72, .875, 1]))\n",
    "q"
   ]
  },
  {
   "cell_type": "code",
   "execution_count": null,
   "metadata": {},
   "outputs": [],
   "source": [
    "m_switzerland = folium.Map(location=[47.1, 8.39], tiles='cartodbpositron', zoom_start =7)\n",
    "m_switzerland.choropleth(geo_data=cantons_json_data, data=df,\n",
    "                columns = ['ID', 'Total'],\n",
    "                threshold_scale = q,\n",
    "                key_on='feature.id',\n",
    "                topojson='objects.cantons',\n",
    "                fill_color='YlGn',\n",
    "                fill_opacity=0.7,\n",
    "                line_opacity=0.2,\n",
    "                legend_name='Unemployment Rate Switzerland (%)')\n",
    "\n",
    "m_switzerland"
   ]
  },
  {
   "cell_type": "code",
   "execution_count": null,
   "metadata": {},
   "outputs": [],
   "source": []
  }
 ],
 "metadata": {
  "language_info": {
   "name": "python",
   "pygments_lexer": "ipython3"
  }
 },
 "nbformat": 4,
 "nbformat_minor": 2
}
