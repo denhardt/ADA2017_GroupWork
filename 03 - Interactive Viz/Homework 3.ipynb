{
 "cells": [
  {
   "cell_type": "code",
   "execution_count": null,
   "metadata": {},
   "outputs": [],
   "source": [
    "import pandas as pd\n",
    "import folium \n",
    "import seaborn\n",
    "import json\n",
    "# Used for downloading and handling files:\n",
    "import gzip\n",
    "import urllib\n",
    "# Used for pretty choropleth maps\n",
    "import jenkspy\n",
    "# Numpy, Scipy, matplotlib\n",
    "%pylab inline"
   ]
  },
  {
   "cell_type": "code",
   "execution_count": null,
   "metadata": {},
   "outputs": [],
   "source": [
    "folium.__version__"
   ]
  },
  {
   "cell_type": "markdown",
   "metadata": {},
   "source": [
    "# 01 - Unemployment in European countries\n",
    "\n",
    "As stated on the Eurostat website, the unemployment rate is defined as:\n",
    ">Unemployment rates represent unemployed persons as a percentage of the labour force. The labour force is the total number of people employed and unemployed. Unemployed persons comprise persons aged 15 to 74 who were: a. without work during the reference week, b. currently available for work, i.e. were available for paid employment or self-employment before the end of the two weeks following the reference week, c. actively seeking work, i.e. had taken specific steps in the four weeks period ending with the reference week to seek paid employment or self-employment or who found a job to start later, i.e. within a period of, at most, three months. This table does not only show unemployment rates but also unemployed in 1000 and as % of the total population.\n",
    "\n",
    "Let's retrieve this data and get it into a `DataFrame`"
   ]
  },
  {
   "cell_type": "code",
   "execution_count": null,
   "metadata": {},
   "outputs": [],
   "source": [
    "#urllib.request.urlretrieve('http://ec.europa.eu/eurostat/tgm/web/_download/Eurostat_Table_tsdec450NoFlagNoDesc_f375eece-81ae-4fc9-b4ef-5ab165fe8c72.xls',\n",
    "#                           'eurostat.xls')\n",
    "na_values= [':', '(i)', '(p)']\n",
    "df_eu = pd.read_excel('eurostat.xls', skiprows=range(3), skip_footer=9, \n",
    "                          na_values=na_values, header=0)\n",
    "df_eu = df_eu.rename(columns={'geo\\\\time': 'country'})\n",
    "print(df_eu.shape)\n",
    "df_eu.head(10)"
   ]
  },
  {
   "cell_type": "code",
   "execution_count": null,
   "metadata": {},
   "outputs": [],
   "source": [
    "eu_topo_path = r'topojson/europe.topojson.json'\n",
    "eu_json = json.load(open(eu_topo_path))"
   ]
  },
  {
   "cell_type": "code",
   "execution_count": null,
   "metadata": {},
   "outputs": [],
   "source": [
    "m_eu = folium.Map([51, 15], zoom_start=4)\n",
    "folium.TopoJson(open(eu_topo_path),\n",
    "                'objects.europe',\n",
    "                name='topojson',\n",
    "               ).add_to(m_eu)\n",
    "m_eu"
   ]
  },
  {
   "cell_type": "markdown",
   "metadata": {},
   "source": [
    "`Folium` interprets NaNs as 0 values and plots them onto our choropleth map if we don't remove them. Therefore, we'll remove any countries from our `eu_json` that don't have any data for our year of interest, 2016. Although we don't have the value for Switzerland in this dataset, data from amstat shows that the unemployment rate for switzerland in 2016 was 2.3. We have to be careful here to take the rate which doesn't include people whom are already employed, so that we compare similar data between the two sets. As we've only got one value, we'll fill it in \"by hand\"."
   ]
  },
  {
   "cell_type": "code",
   "execution_count": null,
   "metadata": {},
   "outputs": [],
   "source": [
    "df_eu.loc[34,'2016'] = 2.3\n",
    "\n",
    "# finding countries to remove\n",
    "rm_countries = df_eu[df_eu['2016'].isnull()]['country'].tolist()\n",
    "print(rm_countries) # should now be an empty list, as we have 2016 data for all countries in our df\n",
    "\n",
    "# removing all countries w/o 2016 data from eu_json\n",
    "eu_json['objects']['europe']['geometries'][:] = [d for d in eu_json['objects']['europe']['geometries'] if d.get('properties').get('NAME') not in rm_countries]"
   ]
  },
  {
   "cell_type": "markdown",
   "metadata": {},
   "source": [
    "Furthermore, we have the same issue the other way round. ie. files defined in our `topoJSON` that are missing from our dataset will still be plotted on our choropleth categories, so we should remove these from the `topoJSON`:"
   ]
  },
  {
   "cell_type": "code",
   "execution_count": null,
   "metadata": {},
   "outputs": [],
   "source": [
    "geometries = []\n",
    "\n",
    "c_json = []\n",
    "for key in eu_json['objects']['europe']['geometries']:\n",
    "    country = key['properties']['NAME']\n",
    "    c_json.append(country)\n",
    "    if country in list(df_eu['country']):\n",
    "        geometries.append(key)\n",
    "        \n",
    "eu_json['objects']['europe']['geometries'] = geometries"
   ]
  },
  {
   "cell_type": "markdown",
   "metadata": {},
   "source": [
    "After testing out different ways of our choosing how to define classes for the choropleth maps we settle on jenks natural breaks. The way this method maximises the information shown and produces agreable maps without exceedingly high contrast were the two selling points."
   ]
  },
  {
   "cell_type": "code",
   "execution_count": null,
   "metadata": {},
   "outputs": [],
   "source": [
    "breaks = jenkspy.jenks_breaks(df_eu.loc[:,'2016'].dropna().values, nb_class=5)\n",
    "m_europe = folium.Map(location=[46, 15], tiles='cartodbpositron', zoom_start =4)\n",
    "m_europe.choropleth(geo_data=eu_json, data=df_eu,\n",
    "                columns = ['country', '2016'],\n",
    "                threshold_scale = breaks,\n",
    "                key_on='feature.properties.NAME',\n",
    "                topojson='objects.europe',\n",
    "                fill_color='YlGn',\n",
    "                fill_opacity=0.7,\n",
    "                line_opacity=0.2,\n",
    "                legend_name='Unemployment Rate (%)')\n",
    "\n",
    "m_europe"
   ]
  },
  {
   "cell_type": "markdown",
   "metadata": {},
   "source": [
    "# 02 - Unemployment in Swiss cantons\n",
    "Let's making the same map as we first did, merely with the outlines of the cantons. Adding the `utf-8` encoding option may be needed on some systems"
   ]
  },
  {
   "cell_type": "code",
   "execution_count": null,
   "metadata": {},
   "outputs": [],
   "source": [
    "canton_topo_path = r'topojson/ch-cantons.topojson.json'\n",
    "canton_json = json.load(open(canton_topo_path, encoding='utf-8'))"
   ]
  },
  {
   "cell_type": "code",
   "execution_count": null,
   "metadata": {},
   "outputs": [],
   "source": [
    "m_ch = folium.Map([47,8.3], zoom_start=8)\n",
    "\n",
    "folium.TopoJson(open(canton_topo_path),\n",
    "                'objects.cantons',\n",
    "                name='topojson',\n",
    "               ).add_to(m_ch)\n",
    "m_ch"
   ]
  },
  {
   "cell_type": "markdown",
   "metadata": {},
   "source": [
    "Let's now try to extract the data for use with the eurostat set. The swiss definition of unemployment is # seeking employment/active population. However, some of those seeking employment already have jobs or are not inscribed in the chomage, whereas in the eurostat data only those without jobs are accounted for. In the amstat"
   ]
  },
  {
   "cell_type": "code",
   "execution_count": null,
   "metadata": {},
   "outputs": [],
   "source": [
    "io = 'ch_test.xlsx'\n",
    "df_ch = pd.read_excel(io, skiprows=range(2), header=0)\n",
    "df_ch = df_ch.drop([0])\n",
    "df_ch = df_ch.loc[:, ['Région linguistique', 'Canton', 'Total', 'Total.1', 'Total.2', 'Total.3']] \n",
    "df_ch[['Total', 'Total.1', 'Total.2', 'Total.3']] = df_ch[['Total', 'Total.1', 'Total.2', 'Total.3']].astype('float64', copy=False, errors='ignore')\n",
    "\n",
    "df_ch = df_ch.rename(columns={'Total.1':'# Registered unemployed', 'Total.2':'# Seeking employment', 'Total.3':'# Seeking w/o unemployment registration'})\n",
    "df_ch['# Active population'] = df_ch['# Seeking employment'] / df_ch['Total'] *100\n",
    "df_ch['Unemployment rate w/o non-registered'] = 100* df_ch['# Registered unemployed'] / df_ch['# Active population']\n",
    "df_ch.head()"
   ]
  },
  {
   "cell_type": "code",
   "execution_count": null,
   "metadata": {},
   "outputs": [],
   "source": [
    "ids = []\n",
    "for canton in canton_json['objects']['cantons']['geometries']:\n",
    "    ids.append(canton['id'])\n",
    "    \n",
    "# We just need to change order of canton ids so it's the same as in our df\n",
    "ids.remove('FR')\n",
    "ids.insert(19 ,'FR')\n",
    "ids.insert(len(ids)+1, 'Not Applicable')\n",
    "df_ch['ID'] = ids\n",
    "df_ch.set_index('Canton', inplace=True)\n",
    "df_ch.head()"
   ]
  },
  {
   "cell_type": "code",
   "execution_count": null,
   "metadata": {},
   "outputs": [],
   "source": [
    "breaks = jenkspy.jenks_breaks(df_ch.loc[:,'Total'].dropna().values, nb_class=5)\n",
    "m_switzerland = folium.Map(location=[47.1, 8.39], tiles='cartodbpositron', zoom_start =7)\n",
    "m_switzerland.choropleth(geo_data=canton_json, data=df_ch,\n",
    "                columns = ['ID', 'Total'],\n",
    "                threshold_scale = breaks,\n",
    "                key_on='feature.id',\n",
    "                topojson='objects.cantons',\n",
    "                fill_color='YlGn',\n",
    "                fill_opacity=0.7,\n",
    "                line_opacity=0.2,\n",
    "                legend_name='Unemployment Rate Switzerland (%)')\n",
    "\n",
    "m_switzerland"
   ]
  },
  {
   "cell_type": "markdown",
   "metadata": {},
   "source": [
    "## 02.2 Only considering registered unemployed"
   ]
  },
  {
   "cell_type": "markdown",
   "metadata": {},
   "source": [
    "We've already calculated the new unemployment rates without people that have jobs/not signed up for chomage. We just need to plot it now"
   ]
  },
  {
   "cell_type": "code",
   "execution_count": null,
   "metadata": {},
   "outputs": [],
   "source": [
    "breaks = jenkspy.jenks_breaks(df_ch.loc[:,'Unemployment rate w/o non-registered'].dropna().values, nb_class=5)\n",
    "m_switzerland = folium.Map(location=[47.1, 8.39], tiles='cartodbpositron', zoom_start =7)\n",
    "m_switzerland.choropleth(geo_data=canton_json, data=df_ch,\n",
    "                columns = ['ID', 'Unemployment rate w/o non-registered'],\n",
    "                threshold_scale = breaks,\n",
    "                key_on='feature.id',\n",
    "                topojson='objects.cantons',\n",
    "                fill_color='YlGn',\n",
    "                fill_opacity=0.7,\n",
    "                line_opacity=0.2,\n",
    "                legend_name='Unemployment Rate Switzerland (%)')\n",
    "\n",
    "m_switzerland"
   ]
  },
  {
   "cell_type": "code",
   "execution_count": null,
   "metadata": {},
   "outputs": [],
   "source": [
    "df_ch['Difference in unemployment rates'] = df_ch['Total'] - df_ch['Unemployment rate w/o non-registered']"
   ]
  },
  {
   "cell_type": "code",
   "execution_count": null,
   "metadata": {},
   "outputs": [],
   "source": [
    "breaks = jenkspy.jenks_breaks(df_ch.loc[:,'Difference in unemployment rates'].dropna().values, nb_class=5)\n",
    "m_switzerland = folium.Map(location=[47.1, 8.39], tiles='cartodbpositron', zoom_start =7)\n",
    "m_switzerland.choropleth(geo_data=canton_json, data=df_ch,\n",
    "                columns = ['ID', 'Difference in unemployment rates'],\n",
    "                threshold_scale = breaks,\n",
    "                key_on='feature.id',\n",
    "                topojson='objects.cantons',\n",
    "                fill_color='YlOrRd',\n",
    "                fill_opacity=0.7,\n",
    "                line_opacity=0.2,\n",
    "                legend_name='Absolute difference in unemployment rates (% points)')\n",
    "\n",
    "m_switzerland"
   ]
  },
  {
   "cell_type": "markdown",
   "metadata": {},
   "source": [
    "# 03 Difference in unemployment between Swiss and foreign workers"
   ]
  },
  {
   "cell_type": "code",
   "execution_count": null,
   "metadata": {},
   "outputs": [],
   "source": [
    "io = 'Unemployment_Rates_foreigners_CH_2016.xlsx'\n",
    "\n",
    "df_foreign = pd.read_excel(io, skiprows=range(2), skip_footer=1, header=0)\n",
    "\n",
    "df_foreign.drop(0, inplace=True)\n",
    "df_foreign['Total'] = df_foreign['Total'].astype('float64', copy=False)\n",
    "\n",
    "# Calculating the difference in unemployment between Swiss and foreigners\n",
    "foreign_unemp = df_foreign[df_foreign.loc[:, 'Nationalité'] == 'Etrangers'].loc[:,'Total'].values\n",
    "swiss_unemp = df_foreign[df_foreign.loc[:, 'Nationalité'] == 'Suisses'].loc[:,'Total'].values\n",
    "foreign_diff = (foreign_unemp - swiss_unemp) # todo: whether to normalise or not\n",
    "\n",
    "df_new = pd.DataFrame(df_foreign.loc[:,'Canton'].unique())\n",
    "df_new = df_new.rename(columns={0:'Canton'})\n",
    "df_new['% points difference wrt swiss'] = foreign_diff\n",
    "df_new.head()"
   ]
  },
  {
   "cell_type": "code",
   "execution_count": null,
   "metadata": {},
   "outputs": [],
   "source": [
    "df_ch = df_ch.reset_index().merge(df_new, on='Canton')\n",
    "df_ch.set_index('Canton', inplace=True)\n",
    "df_ch.head()"
   ]
  },
  {
   "cell_type": "code",
   "execution_count": null,
   "metadata": {},
   "outputs": [],
   "source": [
    "breaks = jenkspy.jenks_breaks(df_ch.loc[:,'% points difference wrt swiss'].dropna().values, nb_class=5)\n",
    "m_switzerland = folium.Map(location=[47.1, 8.39], tiles='cartodbpositron', zoom_start =7)\n",
    "m_switzerland.choropleth(geo_data=canton_json, data=df_ch,\n",
    "                columns = ['ID', '% points difference wrt swiss'],\n",
    "                threshold_scale = breaks,\n",
    "                key_on='feature.id',\n",
    "                topojson='objects.cantons',\n",
    "                fill_color='YlOrRd',\n",
    "                fill_opacity=0.7,\n",
    "                line_opacity=0.2,\n",
    "                legend_name='Absolute difference in unemployment between Swiss and foreign workers (% points)')\n",
    "\n",
    "m_switzerland"
   ]
  },
  {
   "cell_type": "markdown",
   "metadata": {},
   "source": [
    "## 03.2 Difference between age groups"
   ]
  },
  {
   "cell_type": "code",
   "execution_count": null,
   "metadata": {},
   "outputs": [],
   "source": [
    "io = 'Unemployment_Rates_age_CH_2016.xlsx'\n",
    "\n",
    "df_age = pd.read_excel(io, skiprows=range(2), skip_footer=1, header=0)\n",
    "\n",
    "df_age.drop(0, inplace=True)\n",
    "df_age[['Total','Total.1']] = df_age[['Total','Total.1']].astype('float64', copy=False)\n",
    "df_age = df_age.rename(columns={'Unnamed: 3':'Age Category', 'Total':'Unemployment rate', 'Total.1':'# Registered unemployed'})\n",
    "\n",
    "df_age = df_age.loc[:,['Canton', 'Age Category', 'Unemployment rate', '# Registered unemployed']]\n",
    "df_age = df_age.set_index(['Canton', 'Age Category'])\n",
    "#df_age.set_index('Age Category')\n",
    "df_age.head()"
   ]
  },
  {
   "cell_type": "code",
   "execution_count": null,
   "metadata": {},
   "outputs": [],
   "source": [
    "df_age = df_age.unstack(level=1)\n",
    "df_ch[df_age['Unemployment rate'].columns]=df_age['Unemployment rate']"
   ]
  },
  {
   "cell_type": "code",
   "execution_count": null,
   "metadata": {},
   "outputs": [],
   "source": [
    "df_ch['15-24 difference wrt 25-49'] = df_ch['15-24 ans'] - df_ch['25-49 ans']\n",
    "df_ch['50+ difference wrt 25-49'] = df_ch['50 ans et plus'] - df_ch['25-49 ans']\n",
    "df_ch.head()"
   ]
  },
  {
   "cell_type": "code",
   "execution_count": null,
   "metadata": {},
   "outputs": [],
   "source": [
    "#col_to_plot = ['% points difference wrt swiss', '15-24 ans', '25-49 ans', '50 ans et plus']\n",
    "# make the default size for plots bigger\n",
    "matplotlib.rcParams['figure.figsize'] = [8.0, 12.0]\n",
    "col_to_plot = ['% points difference wrt swiss', '15-24 difference wrt 25-49', '50+ difference wrt 25-49']\n",
    "df_ch[col_to_plot].plot.barh()"
   ]
  },
  {
   "cell_type": "markdown",
   "metadata": {},
   "source": [
    "This is maybe a bit of a surprise.\n",
    "* Unemployment rate among foreigners is higher than that for Swiss in every single canton\n",
    "* In most cantons, the younger and the older generally enjoy lower unemployment rates than 25-49 year olds\n",
    "* The two biggest exceptions are Tessin and Jura, where the young population have a much higher unemployment rate"
   ]
  },
  {
   "cell_type": "markdown",
   "metadata": {},
   "source": [
    "# 04 Bonus, difference over the Röstigraben"
   ]
  },
  {
   "cell_type": "markdown",
   "metadata": {},
   "source": [
    "We observed that the classification of cantons into a linguistic region wasn't quite acurate in the datasets from amstat. As an example, the canton of Vaud is classified as 'Suisse romande et Tessin'. The same apply for Geneva and other Canton. \n",
    "\n",
    "To overcome this issue, we have decided to generate a new classification based on wikipedia information. From this new classification, only 3 cantons are mapped into 2 linguistic regions at the same time: Berne, Friboug and Valais.\n",
    "\n",
    "We treat these three cantons as being part of a fourth linguistic region. This makes sense as they form the boundary between the Swiss and German speaking parts of Switzerland.\n",
    "\n",
    "To visualize the differences between the linguistic regions (Suisse romande, Suisse alémanique, Tessin, Suisse romande et Suisse alémanique) we evaluate the mean of unemployment rates for each region. As a result, each canton within a given linguistic region has the same 'region' unemployement rate associated to it."
   ]
  },
  {
   "cell_type": "code",
   "execution_count": null,
   "metadata": {},
   "outputs": [],
   "source": [
    "io = 'regions.xlsx'\n",
    "regions = pd.read_excel(io, header=0, dtype=str)\n",
    "regions"
   ]
  },
  {
   "cell_type": "code",
   "execution_count": null,
   "metadata": {},
   "outputs": [],
   "source": [
    "# Modify the the column 'Région linguistic' according to wikipedia classification\n",
    "df_ch['Région linguistique'] = list(regions['Région linguistique'])\n",
    "\n",
    "# Evaluate the mean of unemployment rates for each linguistic region  \n",
    "df_rostigraben = df_ch.groupby('Région linguistique')['Total'].mean()\n",
    "\n",
    "# for each canton, associate the mean of its linguistic region \n",
    "df_ch['rostigraben rate %'] = [df_rostigraben.loc[rl] for rl in df_ch['Région linguistique'].values]\n",
    "\n",
    "breaks = jenkspy.jenks_breaks(df_ch.loc[:,'rostigraben rate %'].dropna().values, nb_class=4)\n",
    "m_rostigraben = folium.Map(location=[47.1, 8.39], tiles='cartodbpositron', zoom_start =7)\n",
    "m_rostigraben.choropleth(geo_data=canton_json, data=df_ch,\n",
    "                columns = ['ID', 'rostigraben rate %'],\n",
    "                threshold_scale = breaks,\n",
    "                key_on='feature.id',\n",
    "                topojson='objects.cantons',\n",
    "                fill_color='YlOrRd',\n",
    "                fill_opacity=0.7,\n",
    "                line_opacity=0.2,\n",
    "                legend_name='Unmployment rate by linguistic regions')\n",
    "\n",
    "m_rostigraben"
   ]
  },
  {
   "cell_type": "markdown",
   "metadata": {},
   "source": [
    "As shown by the previous map, cantons from the French speaking part of Switzerland have a highest unemployement rate than for other linguistic regions. This kind of enforce the 'cliché' that German speakers are more prone to work than people from the latin culture."
   ]
  }
 ],
 "metadata": {
  "language_info": {
   "name": "python",
   "pygments_lexer": "ipython3"
  }
 },
 "nbformat": 4,
 "nbformat_minor": 2
}
