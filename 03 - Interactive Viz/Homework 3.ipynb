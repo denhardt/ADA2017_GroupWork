{
 "cells": [
  {
   "cell_type": "code",
   "execution_count": null,
   "metadata": {},
   "outputs": [],
   "source": [
    "import pandas as pd\n",
    "import folium \n",
    "import seaborn\n",
    "import json\n",
    "# Used for downloading and handling files:\n",
    "import gzip\n",
    "import urllib\n",
    "# Used for country IDs\n",
    "import pycountry\n",
    "import jenkspy\n",
    "# Numpy, Scipy, matplotlib\n",
    "%pylab inline"
   ]
  },
  {
   "cell_type": "code",
   "execution_count": null,
   "metadata": {},
   "outputs": [],
   "source": [
    "folium.__version__"
   ]
  },
  {
   "cell_type": "markdown",
   "metadata": {},
   "source": [
    "# 01 - Unemployment in European countries\n",
    "\n",
    "As stated on the Eurostat website, the unemployment rate is defined as:\n",
    ">Unemployment rates represent unemployed persons as a percentage of the labour force. The labour force is the total number of people employed and unemployed. Unemployed persons comprise persons aged 15 to 74 who were: a. without work during the reference week, b. currently available for work, i.e. were available for paid employment or self-employment before the end of the two weeks following the reference week, c. actively seeking work, i.e. had taken specific steps in the four weeks period ending with the reference week to seek paid employment or self-employment or who found a job to start later, i.e. within a period of, at most, three months. This table does not only show unemployment rates but also unemployed in 1000 and as % of the total population."
   ]
  },
  {
   "cell_type": "markdown",
   "metadata": {},
   "source": [
    "### With xls files"
   ]
  },
  {
   "cell_type": "code",
   "execution_count": null,
   "metadata": {},
   "outputs": [],
   "source": [
    "urllib.request.urlretrieve('http://ec.europa.eu/eurostat/tgm/web/_download/Eurostat_Table_tsdec450NoFlagNoDesc_f375eece-81ae-4fc9-b4ef-5ab165fe8c72.xls',\n",
    "                           'eurostat.xls')\n",
    "na_values= [':', '(i)', '(p)']\n",
    "df_eu = pd.read_excel('eurostat.xls', skiprows=range(3), skip_footer=9, \n",
    "                          na_values=na_values, header=0)\n",
    "df_eu = df_eu.rename(columns={'geo\\\\time': 'country'})\n",
    "print(df_eu.shape)\n",
    "df_eu.head(10)"
   ]
  },
  {
   "cell_type": "code",
   "execution_count": null,
   "metadata": {},
   "outputs": [],
   "source": [
    "eu_topo_path = r'topojson/europe.topojson.json'\n",
    "eu_json = json.load(open(eu_topo_path))"
   ]
  },
  {
   "cell_type": "code",
   "execution_count": null,
   "metadata": {},
   "outputs": [],
   "source": [
    "m_eu = folium.Map([51, 15], zoom_start=4)\n",
    "folium.TopoJson(open(eu_topo_path),\n",
    "                'objects.europe',\n",
    "                name='topojson',\n",
    "               ).add_to(m_eu)\n",
    "m_eu"
   ]
  },
  {
   "cell_type": "markdown",
   "metadata": {},
   "source": [
    "`Folium` interprets NaNs as 0 values and plots them onto our choropleth map if we don't remove them. Therefore, we'll remove any countries from our `eu_json` that don't have any data for our year of interest, 2016. Although we don't have the value for Switzerland in this dataset, data from amstat shows that the unemployment rate for switzerland in 2016 was 3.3. We have to be careful here to take the rate which doesn't include people whom are already employed, so that we compare similar data between the two sets. As we've only got one value, we'll fill it in \"by hand\"."
   ]
  },
  {
   "cell_type": "code",
   "execution_count": null,
   "metadata": {},
   "outputs": [],
   "source": [
    "df_eu.loc[34,'2016'] = 3.3 # todo: get value w/o job holders for comparison\n",
    "# finding countries to remove\n",
    "rm_countries = df_eu[df_eu['2016'].isnull()]['country'].tolist()\n",
    "print(rm_countries)\n",
    "# removing all countries w/o 2016 data from eu_json\n",
    "eu_json['objects']['europe']['geometries'][:] = [d for d in eu_json['objects']['europe']['geometries'] if d.get('properties').get('NAME') not in rm_countries]\n",
    "df_eu.loc[:, ['country','2016']]"
   ]
  },
  {
   "cell_type": "code",
   "execution_count": null,
   "metadata": {},
   "outputs": [],
   "source": [
    "#q = list(df_eu['2016'].quantile([.05, .235, .655, .774, .9455]))\n",
    "# We choose to use natural jenks breaks, todo: add some more text about this\n",
    "breaks = jenkspy.jenks_breaks(df_eu.loc[:,'2016'].dropna().values, nb_class=5)\n",
    "m_europe = folium.Map(location=[46, 15], tiles='cartodbpositron', zoom_start =4)\n",
    "m_europe.choropleth(geo_data=eu_json, data=df_eu.reset_index(),\n",
    "                columns = ['country', '2016'],\n",
    "                threshold_scale = breaks,\n",
    "                key_on='feature.properties.NAME',\n",
    "                topojson='objects.europe',\n",
    "                fill_color='YlGn',\n",
    "                fill_opacity=0.7,\n",
    "                line_opacity=0.2,\n",
    "                legend_name='Unemployment Rate (%)')\n",
    "\n",
    "m_europe"
   ]
  },
  {
   "cell_type": "markdown",
   "metadata": {},
   "source": [
    "### With tsv files ! not working !\n",
    "Still need to change country code into strings, mismatch between eurostat data and ISO standards in `pycountry`"
   ]
  },
  {
   "cell_type": "code",
   "execution_count": null,
   "metadata": {},
   "outputs": [],
   "source": [
    "# Downloading and reading in the data\n",
    "#urllib.request.urlretrieve(\n",
    "       # 'http://ec.europa.eu/eurostat/estat-navtree-portlet-prod/BulkDownloadListing?file=data/tipsun20.tsv.gz', \n",
    "        #'tipsun20.tsv.gz')\n",
    "file = gzip.open('tipsun20.tsv.gz')\n",
    "df = pd.read_csv(file, sep='\\t')\n",
    "\n",
    "# Re-organising the columns\n",
    "\n",
    "df = df.rename(columns={'sex,age,unit,geo\\\\time': 'country'})\n",
    "#df = df.set_index('country')\n",
    "df = df[ df.country.str.contains('TOTAL') ] # filter out extra data, only interested in total unemployment rate\n",
    "df.head()"
   ]
  },
  {
   "cell_type": "code",
   "execution_count": null,
   "metadata": {},
   "outputs": [],
   "source": [
    "pycountry.countries.get(alpha_2='GB').name"
   ]
  },
  {
   "cell_type": "code",
   "execution_count": null,
   "metadata": {},
   "outputs": [],
   "source": [
    "# WIP\n",
    "for i in range(len(df.country)):\n",
    "    try:\n",
    "        df.loc[i, 'country'] = pycountry.countries.get(alpha_2=df.loc[i, 'country'][15:]).name \n",
    "    except:\n",
    "        print('No country code for:', df.loc[i, 'country'][15:])\n",
    "    \n",
    "    #print(df.loc[i, 'country'])"
   ]
  },
  {
   "cell_type": "markdown",
   "metadata": {},
   "source": [
    "ISO-3166-1993 country codes for Estonia and United Kingdom are: `EE` and `GB`"
   ]
  },
  {
   "cell_type": "code",
   "execution_count": null,
   "metadata": {},
   "outputs": [],
   "source": [
    "df[df.loc[:, 'country'].str.contains('EL')].country = 'EL'# = pycountry.countries.get(alpha_2='EE').name \n",
    "#df[df.loc[:, 'country'].str.contains('UK'), 'country']# = pycountry.countries.get(alpha_2='GB').name \n",
    "df"
   ]
  },
  {
   "cell_type": "markdown",
   "metadata": {},
   "source": [
    "# 02 - Unemployment in Swiss cantons"
   ]
  },
  {
   "cell_type": "code",
   "execution_count": null,
   "metadata": {},
   "outputs": [],
   "source": [
    "canton_topo_path = r'topojson/ch-cantons.topojson.json'\n",
    "canton_json = json.load(open(canton_topo_path))"
   ]
  },
  {
   "cell_type": "code",
   "execution_count": null,
   "metadata": {},
   "outputs": [],
   "source": [
    "m_ch = folium.Map([47,8.3], zoom_start=8)\n",
    "\n",
    "folium.TopoJson(open(canton_topo_path),\n",
    "                'objects.cantons',\n",
    "                name='topojson',\n",
    "               ).add_to(m_ch)\n",
    "m_ch"
   ]
  },
  {
   "cell_type": "code",
   "execution_count": null,
   "metadata": {},
   "outputs": [],
   "source": [
    "io = 'ch_test.xlsx'\n",
    "df_ch = pd.read_excel(io, skiprows=range(2), skip_footer=1, header=0)\n",
    "\n",
    "# There is monthly data available for 2016, but we're only going to keep \n",
    "# the yearly average so we can compare to eurostat\n",
    "#print(df_ch.columns)\n",
    "df_ch = df_ch.loc[:, ['Région linguistique', 'Canton', 'Total', 'Total.1', 'Total.2', 'Total.3']] \n",
    "df_ch = df_ch.rename(columns={'Total.1':'# Registered unemployed', 'Total.2':'# Seeking employment', 'Total.3':'# Seeking w/o unemployment registration'})\n",
    "df_ch = df_ch.dropna()\n",
    "df_ch['Total'] = df_ch['Total'].astype('float64', copy=False, errors='ignore')\n",
    "\n",
    "ids = []\n",
    "for canton in canton_json['objects']['cantons']['geometries']:\n",
    "    ids.append(canton['id'])\n",
    "    \n",
    "# We just need to change order of canton ids so it's the same as in our df\n",
    "ids.remove('FR')\n",
    "ids.insert(19 ,'FR')\n",
    "df_ch['ID'] = ids\n",
    "df_ch.set_index('Canton', inplace=True)\n",
    "df_ch.head()"
   ]
  },
  {
   "cell_type": "code",
   "execution_count": null,
   "metadata": {},
   "outputs": [],
   "source": [
    "breaks = jenkspy.jenks_breaks(df_ch.loc[:,'Total'].dropna().values, nb_class=5)\n",
    "m_switzerland = folium.Map(location=[47.1, 8.39], tiles='cartodbpositron', zoom_start =7)\n",
    "m_switzerland.choropleth(geo_data=canton_json, data=df_ch,\n",
    "                columns = ['ID', 'Total'],\n",
    "                threshold_scale = breaks,\n",
    "                key_on='feature.id',\n",
    "                topojson='objects.cantons',\n",
    "                fill_color='YlGn',\n",
    "                fill_opacity=0.7,\n",
    "                line_opacity=0.2,\n",
    "                legend_name='Unemployment Rate Switzerland (%)')\n",
    "\n",
    "m_switzerland"
   ]
  },
  {
   "cell_type": "markdown",
   "metadata": {},
   "source": [
    "## 02.2 Only considering registered unemployed"
   ]
  },
  {
   "cell_type": "code",
   "execution_count": null,
   "metadata": {},
   "outputs": [],
   "source": [
    "df_ch['# Active population'] = df_ch['# Seeking employment'] / df_ch['Total'] *100\n",
    "df_ch['Unemployment rate w/o non-registered'] = 100* df_ch['# Registered unemployed'] / df_ch['# Active population']\n",
    "df_ch.head()"
   ]
  },
  {
   "cell_type": "code",
   "execution_count": null,
   "metadata": {},
   "outputs": [],
   "source": [
    "breaks = jenkspy.jenks_breaks(df_ch.loc[:,'Unemployment rate w/o non-registered'].dropna().values, nb_class=5)\n",
    "m_switzerland = folium.Map(location=[47.1, 8.39], tiles='cartodbpositron', zoom_start =7)\n",
    "m_switzerland.choropleth(geo_data=canton_json, data=df_ch,\n",
    "                columns = ['ID', 'Unemployment rate w/o non-registered'],\n",
    "                threshold_scale = breaks,\n",
    "                key_on='feature.id',\n",
    "                topojson='objects.cantons',\n",
    "                fill_color='YlGn',\n",
    "                fill_opacity=0.7,\n",
    "                line_opacity=0.2,\n",
    "                legend_name='Unemployment Rate Switzerland (%)')\n",
    "\n",
    "m_switzerland"
   ]
  },
  {
   "cell_type": "code",
   "execution_count": null,
   "metadata": {},
   "outputs": [],
   "source": [
    "df_ch['Difference in unemployment rates'] = df_ch['Total'] - df_ch['Unemployment rate w/o non-registered']"
   ]
  },
  {
   "cell_type": "code",
   "execution_count": null,
   "metadata": {},
   "outputs": [],
   "source": [
    "breaks = jenkspy.jenks_breaks(df_ch.loc[:,'Difference in unemployment rates'].dropna().values, nb_class=5)\n",
    "m_switzerland = folium.Map(location=[47.1, 8.39], tiles='cartodbpositron', zoom_start =7)\n",
    "m_switzerland.choropleth(geo_data=canton_json, data=df_ch,\n",
    "                columns = ['ID', 'Difference in unemployment rates'],\n",
    "                threshold_scale = breaks,\n",
    "                key_on='feature.id',\n",
    "                topojson='objects.cantons',\n",
    "                fill_color='YlOrRd',\n",
    "                fill_opacity=0.7,\n",
    "                line_opacity=0.2,\n",
    "                legend_name='Absolute difference in unemployment rates (% points)')\n",
    "\n",
    "m_switzerland"
   ]
  },
  {
   "cell_type": "markdown",
   "metadata": {},
   "source": [
    "# 03 Difference in unemployment between Swiss and foreign workers"
   ]
  },
  {
   "cell_type": "code",
   "execution_count": null,
   "metadata": {},
   "outputs": [],
   "source": [
    "io = 'Unemployment_Rates_foreigners_CH_2016.xlsx'\n",
    "\n",
    "df_foreign = pd.read_excel(io, skiprows=range(2), skip_footer=1, header=0)\n",
    "\n",
    "df_foreign.drop(0, inplace=True)\n",
    "df_foreign['Total'] = df_foreign['Total'].astype('float64', copy=False)\n",
    "\n",
    "# Calculating the difference in unemployment between Swiss and foreigners\n",
    "foreign_unemp = df_foreign[df_foreign.loc[:, 'Nationalité'] == 'Etrangers'].loc[:,'Total'].values\n",
    "swiss_unemp = df_foreign[df_foreign.loc[:, 'Nationalité'] == 'Suisses'].loc[:,'Total'].values\n",
    "foreign_diff = (foreign_unemp - swiss_unemp) # todo: whether to normalise or not\n",
    "\n",
    "df_new = pd.DataFrame(df_foreign.loc[:,'Canton'].unique())\n",
    "df_new = df_new.rename(columns={0:'Canton'})\n",
    "df_new['% points difference wrt swiss'] = foreign_diff\n",
    "df_new.head()"
   ]
  },
  {
   "cell_type": "code",
   "execution_count": null,
   "metadata": {},
   "outputs": [],
   "source": [
    "df_ch = df_ch.reset_index().merge(df_new, on='Canton')\n",
    "df_ch.set_index('Canton', inplace=True)\n",
    "df_ch.head()"
   ]
  },
  {
   "cell_type": "code",
   "execution_count": null,
   "metadata": {},
   "outputs": [],
   "source": [
    "breaks = jenkspy.jenks_breaks(df_ch.loc[:,'% points difference wrt swiss'].dropna().values, nb_class=5)\n",
    "m_switzerland = folium.Map(location=[47.1, 8.39], tiles='cartodbpositron', zoom_start =7)\n",
    "m_switzerland.choropleth(geo_data=canton_json, data=df_ch,\n",
    "                columns = ['ID', '% points difference wrt swiss'],\n",
    "                threshold_scale = breaks,\n",
    "                key_on='feature.id',\n",
    "                topojson='objects.cantons',\n",
    "                fill_color='YlOrRd',\n",
    "                fill_opacity=0.7,\n",
    "                line_opacity=0.2,\n",
    "                legend_name='Absolute difference in unemployment between Swiss and foreign workers (% points)')\n",
    "\n",
    "m_switzerland"
   ]
  },
  {
   "cell_type": "markdown",
   "metadata": {},
   "source": [
    "## 03.2 Difference between age groups"
   ]
  },
  {
   "cell_type": "code",
   "execution_count": null,
   "metadata": {},
   "outputs": [],
   "source": [
    "io = 'Unemployment_Rates_age_CH_2016.xlsx'\n",
    "\n",
    "df_age = pd.read_excel(io, skiprows=range(2), skip_footer=1, header=0)\n",
    "\n",
    "df_age.drop(0, inplace=True)\n",
    "df_age[['Total','Total.1']] = df_age[['Total','Total.1']].astype('float64', copy=False)\n",
    "df_age = df_age.rename(columns={'Unnamed: 3':'Age Category', 'Total':'Unemployment rate', 'Total.1':'# Registered unemployed'})\n",
    "\n",
    "df_age = df_age.loc[:,['Canton', 'Age Category', 'Unemployment rate', '# Registered unemployed']]\n",
    "df_age = df_age.set_index(['Canton', 'Age Category'])\n",
    "#df_age.set_index('Age Category')\n",
    "df_age.head()"
   ]
  },
  {
   "cell_type": "code",
   "execution_count": null,
   "metadata": {},
   "outputs": [],
   "source": [
    "df_age = df_age.unstack(level=1)\n",
    "df_ch[df_age['Unemployment rate'].columns]=df_age['Unemployment rate']"
   ]
  },
  {
   "cell_type": "code",
   "execution_count": null,
   "metadata": {},
   "outputs": [],
   "source": [
    "df_ch['15-24 difference wrt 25-49'] = df_ch['15-24 ans'] - df_ch['25-49 ans']\n",
    "df_ch['50+ difference wrt 25-49'] = df_ch['50 ans et plus'] - df_ch['25-49 ans']\n",
    "df_ch.head()"
   ]
  },
  {
   "cell_type": "code",
   "execution_count": null,
   "metadata": {},
   "outputs": [],
   "source": [
    "#col_to_plot = ['% points difference wrt swiss', '15-24 ans', '25-49 ans', '50 ans et plus']\n",
    "# make the default size for plots bigger\n",
    "matplotlib.rcParams['figure.figsize'] = [8.0, 12.0]\n",
    "col_to_plot = ['% points difference wrt swiss', '15-24 difference wrt 25-49', '50+ difference wrt 25-49']\n",
    "df_ch[col_to_plot].plot.barh()"
   ]
  },
  {
   "cell_type": "markdown",
   "metadata": {},
   "source": [
    "This is maybe a bit of a surprise.\n",
    "* Unemployment rate among foreigners is higher than that for Swiss in every single canton\n",
    "* In most cantons, the younger and the older generally enjoy lower unemployment rates than 25-49 year olds\n",
    "* The two biggest exceptions are Tessin and Jura, where the young population have a much higher unemployment rate"
   ]
  },
  {
   "cell_type": "markdown",
   "metadata": {},
   "source": [
    "# 04 Bonus, difference over the Röstigraben"
   ]
  },
  {
   "cell_type": "code",
   "execution_count": null,
   "metadata": {},
   "outputs": [],
   "source": [
    "df_ch['Région linguistique'].str.contains('romande')\n",
    "#df_ch['Région linguistique'].str.contains('manique')"
   ]
  }
 ],
 "metadata": {
  "language_info": {
   "name": "python",
   "pygments_lexer": "ipython3"
  }
 },
 "nbformat": 4,
 "nbformat_minor": 2
}
