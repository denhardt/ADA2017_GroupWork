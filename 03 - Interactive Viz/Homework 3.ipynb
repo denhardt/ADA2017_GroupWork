{
 "cells": [
  {
   "cell_type": "code",
   "execution_count": null,
   "metadata": {},
   "outputs": [],
   "source": [
    "import pandas as pd\n",
    "import folium \n",
    "import seaborn\n",
    "import os\n",
    "import json\n",
    "# Used for downloading and handling files:\n",
    "import gzip\n",
    "import urllib\n",
    "#import requests"
   ]
  },
  {
   "cell_type": "code",
   "execution_count": null,
   "metadata": {},
   "outputs": [],
   "source": [
    "folium.__version__"
   ]
  },
  {
   "cell_type": "markdown",
   "metadata": {},
   "source": [
    "# 01 - Unemployment in European countries\n",
    "\n"
   ]
  },
  {
   "cell_type": "code",
   "execution_count": null,
   "metadata": {},
   "outputs": [],
   "source": [
    "# Downloading and reading in the data\n",
    "#urllib.request.urlretrieve(\n",
    "       # 'http://ec.europa.eu/eurostat/estat-navtree-portlet-prod/BulkDownloadListing?file=data/tipsun20.tsv.gz', \n",
    "        #'tipsun20.tsv.gz')\n",
    "file = gzip.open('tipsun20.tsv.gz')\n",
    "df = pd.read_csv(file, sep='\\t')\n",
    "\n",
    "# Re-organising the columns\n",
    "\n",
    "df = df.rename(columns={'sex,age,unit,geo\\\\time': 'country'})\n",
    "df = df.set_index('country')\n",
    "df = df.filter(like='TOTAL', axis=0) # filter out extra data, only interested in total unemployment rate\n",
    "df.head()"
   ]
  },
  {
   "cell_type": "code",
   "execution_count": null,
   "metadata": {},
   "outputs": [],
   "source": [
    "m_eu = folium.Map([51, 15], zoom_start=4)\n",
    "eu_topo_path = r'topojson/europe.topojson.json'\n",
    "folium.TopoJson(open(eu_topo_path),\n",
    "                'objects.europe',\n",
    "                name='topojson',\n",
    "               ).add_to(m_eu)\n",
    "m_eu"
   ]
  },
  {
   "cell_type": "markdown",
   "metadata": {},
   "source": [
    "# 02 - Unemployment in Swiss cantons"
   ]
  },
  {
   "cell_type": "code",
   "execution_count": null,
   "metadata": {},
   "outputs": [],
   "source": [
    "m_ch = folium.Map([47,8.3], zoom_start=8)\n",
    "canton_topo_path = r'topojson/ch-cantons.topojson.json'\n",
    "#m_ch.geo_json(geo_path=canton_topo_path, topojson='objects.cantons')\n",
    "#m_ch.geo_json\n",
    "\n",
    "folium.TopoJson(open(canton_topo_path),\n",
    "                'objects.cantons',\n",
    "                name='topojson',\n",
    "               ).add_to(m_ch)\n",
    "m_ch"
   ]
  },
  {
   "cell_type": "code",
   "execution_count": null,
   "metadata": {},
   "outputs": [],
   "source": [
    "df.head()"
   ]
  }
 ],
 "metadata": {
  "language_info": {
   "name": "python",
   "pygments_lexer": "ipython3"
  }
 },
 "nbformat": 4,
 "nbformat_minor": 2
}
