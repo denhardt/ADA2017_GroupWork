{
 "cells": [
  {
   "cell_type": "code",
   "execution_count": null,
   "metadata": {},
   "outputs": [],
   "source": [
    "import pandas as pd\n",
    "import folium \n",
    "import seaborn\n",
    "import os\n",
    "import json\n",
    "import gzip\n",
    "import requests"
   ]
  },
  {
   "cell_type": "code",
   "execution_count": null,
   "metadata": {},
   "outputs": [],
   "source": [
    "folium.__version__"
   ]
  },
  {
   "cell_type": "markdown",
   "metadata": {},
   "source": [
    "# 01 - Unemployment in European countries"
   ]
  },
  {
   "cell_type": "code",
   "execution_count": null,
   "metadata": {},
   "outputs": [],
   "source": [
    "m_eu = folium.Map([47,8.3], zoom_start=4)\n",
    "eu_topo_path = 'topojson/europe.topojson.json'\n",
    "folium.TopoJson(open(eu_topo_path),\n",
    "                'objects.europe',\n",
    "                name='topojson',\n",
    "               ).add_to(m_eu)\n",
    "m_eu"
   ]
  },
  {
   "cell_type": "markdown",
   "metadata": {},
   "source": [
    "# 02 - Unemployment in Swiss cantons"
   ]
  },
  {
   "cell_type": "code",
   "execution_count": null,
   "metadata": {},
   "outputs": [],
   "source": [
    "m_ch = folium.Map([47,8.3], zoom_start=8)\n",
    "canton_topo_path = 'topojson/ch-cantons.topojson.json'\n",
    "#m_ch.geo_json(geo_path=canton_topo_path, topojson='objects.cantons')\n",
    "#m_ch.geo_json\n",
    "\n",
    "folium.TopoJson(open(canton_topo_path),\n",
    "                'objects.cantons',\n",
    "                name='topojson',\n",
    "               ).add_to(m_ch)\n",
    "m_ch"
   ]
  },
  {
   "cell_type": "code",
   "execution_count": null,
   "metadata": {},
   "outputs": [],
   "source": [
    "resp = requests.get('http://ec.europa.eu/eurostat/estat-navtree-portlet-prod/BulkDownloadListing?file=data/tipsun10.tsv.gz')"
   ]
  },
  {
   "cell_type": "code",
   "execution_count": null,
   "metadata": {},
   "outputs": [],
   "source": [
    "resp.text"
   ]
  }
 ],
 "metadata": {
  "language_info": {
   "name": "python",
   "pygments_lexer": "ipython3"
  }
 },
 "nbformat": 4,
 "nbformat_minor": 2
}
