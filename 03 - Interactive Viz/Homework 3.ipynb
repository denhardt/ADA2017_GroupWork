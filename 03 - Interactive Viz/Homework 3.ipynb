{
 "cells": [
  {
   "cell_type": "code",
   "execution_count": null,
   "metadata": {},
   "outputs": [],
   "source": [
    "import pandas as pd\n",
    "import folium \n",
    "import seaborn\n",
    "import os\n",
    "import json\n",
    "# Used for downloading and handling files:\n",
    "import gzip\n",
    "import urllib\n",
    "import pycountry\n",
    "#import requests"
   ]
  },
  {
   "cell_type": "code",
   "execution_count": null,
   "metadata": {},
   "outputs": [],
   "source": [
    "folium.__version__"
   ]
  },
  {
   "cell_type": "markdown",
   "metadata": {},
   "source": [
    "# 01 - Unemployment in European countries\n",
    "\n"
   ]
  },
  {
   "cell_type": "markdown",
   "metadata": {},
   "source": [
    "### With xls files"
   ]
  },
  {
   "cell_type": "code",
   "execution_count": null,
   "metadata": {},
   "outputs": [],
   "source": [
    "#urllib.request.urlretrieve('http://ec.europa.eu/eurostat/tgm/web/_download/Eurostat_Table_tsdec450NoFlagNoDesc_f375eece-81ae-4fc9-b4ef-5ab165fe8c72.xls',\n",
    "                          #'eurostat.xls')\n",
    "na_values= [':', '(i)', '(p)']\n",
    "df = pd.read_excel('eurostat.xls', skiprows=range(3), skip_footer=9, \n",
    "                          na_values=na_values, header=0)\n",
    "df = df.rename(columns={'geo\\\\time': 'country'})\n",
    "df = df.set_index('country')\n",
    "df = df.iloc[4:, 0:len(df.columns):2]\n",
    "df.head()"
   ]
  },
  {
   "cell_type": "code",
   "execution_count": null,
   "metadata": {},
   "outputs": [],
   "source": [
    "m_eu = folium.Map([51, 15], zoom_start=4)\n",
    "eu_topo_path = r'topojson/europe.topojson.json'\n",
    "folium.TopoJson(open(eu_topo_path),\n",
    "                'objects.europe',\n",
    "                name='topojson',\n",
    "               ).add_to(m_eu)\n",
    "m_eu"
   ]
  },
  {
   "cell_type": "code",
   "execution_count": null,
   "metadata": {},
   "outputs": [],
   "source": [
    "# todo: find a way to drop switzerland value in json file\n",
    "eu_json = json.load(open(eu_topo_path))"
   ]
  },
  {
   "cell_type": "code",
   "execution_count": null,
   "metadata": {},
   "outputs": [],
   "source": [
    "df[df['2016'].isnull()]"
   ]
  },
  {
   "cell_type": "code",
   "execution_count": null,
   "metadata": {},
   "outputs": [],
   "source": [
    "eu_json['objects']['europe']"
   ]
  },
  {
   "cell_type": "code",
   "execution_count": null,
   "metadata": {},
   "outputs": [],
   "source": [
    "q = list(df['2016'].quantile([.05, .235, .655, .774, .9455]))\n",
    "m_europe = folium.Map(location=[46, 15], tiles='cartodbpositron', zoom_start =4)\n",
    "m_europe.choropleth(geo_data=eu_json, data=df.loc[:,'2016'].dropna(),\n",
    "                columns = ['country', '2016'],\n",
    "                threshold_scale = q,\n",
    "                key_on='feature.properties.NAME',\n",
    "                topojson='objects.europe',\n",
    "                fill_color='YlGn',\n",
    "                fill_opacity=0.7,\n",
    "                line_opacity=0.2,\n",
    "                legend_name='Unemployment Rate (%)')\n",
    "\n",
    "m_europe"
   ]
  },
  {
   "cell_type": "markdown",
   "metadata": {},
   "source": [
    "### With tsv files\n",
    "Still need to change country code into strings"
   ]
  },
  {
   "cell_type": "code",
   "execution_count": null,
   "metadata": {},
   "outputs": [],
   "source": [
    "# Downloading and reading in the data\n",
    "#urllib.request.urlretrieve(\n",
    "       # 'http://ec.europa.eu/eurostat/estat-navtree-portlet-prod/BulkDownloadListing?file=data/tipsun20.tsv.gz', \n",
    "        #'tipsun20.tsv.gz')\n",
    "file = gzip.open('tipsun20.tsv.gz')\n",
    "df = pd.read_csv(file, sep='\\t')\n",
    "\n",
    "# Re-organising the columns\n",
    "\n",
    "df = df.rename(columns={'sex,age,unit,geo\\\\time': 'country'})\n",
    "#df = df.set_index('country')\n",
    "df = df[ df.country.str.contains('TOTAL') ] # filter out extra data, only interested in total unemployment rate\n",
    "df.head()"
   ]
  },
  {
   "cell_type": "code",
   "execution_count": null,
   "metadata": {},
   "outputs": [],
   "source": [
    "pycountry.countries.get(alpha_2='GB').name"
   ]
  },
  {
   "cell_type": "code",
   "execution_count": null,
   "metadata": {},
   "outputs": [],
   "source": [
    "# WIP\n",
    "for i in range(len(df.country)):\n",
    "    try:\n",
    "        df.loc[i, 'country'] = pycountry.countries.get(alpha_2=df.loc[i, 'country'][15:]).name \n",
    "    except:\n",
    "        print('No country code for:', df.loc[i, 'country'][15:])\n",
    "    \n",
    "    #print(df.loc[i, 'country'])"
   ]
  },
  {
   "cell_type": "markdown",
   "metadata": {},
   "source": [
    "ISO-3166-1993 country codes for Estonia and United Kingdom are: `EE` and `GB`"
   ]
  },
  {
   "cell_type": "code",
   "execution_count": null,
   "metadata": {},
   "outputs": [],
   "source": [
    "df[df.loc[:, 'country'].str.contains('EL')].country = 'EL'# = pycountry.countries.get(alpha_2='EE').name \n",
    "#df[df.loc[:, 'country'].str.contains('UK'), 'country']# = pycountry.countries.get(alpha_2='GB').name \n",
    "df"
   ]
  },
  {
   "cell_type": "markdown",
   "metadata": {},
   "source": [
    "# 02 - Unemployment in Swiss cantons"
   ]
  },
  {
   "cell_type": "code",
   "execution_count": null,
   "metadata": {},
   "outputs": [],
   "source": [
    "canton_json = json.load(open(canton_topo_path))"
   ]
  },
  {
   "cell_type": "code",
   "execution_count": null,
   "metadata": {},
   "outputs": [],
   "source": [
    "canton_json['objects']['cantons']"
   ]
  },
  {
   "cell_type": "code",
   "execution_count": null,
   "metadata": {},
   "outputs": [],
   "source": []
  },
  {
   "cell_type": "code",
   "execution_count": null,
   "metadata": {},
   "outputs": [],
   "source": [
    "m_ch = folium.Map([47,8.3], zoom_start=8)\n",
    "canton_topo_path = r'topojson/ch-cantons.topojson.json'\n",
    "#m_ch.geo_json(geo_path=canton_topo_path, topojson='objects.cantons')\n",
    "#m_ch.geo_json\n",
    "\n",
    "folium.TopoJson(open(canton_topo_path),\n",
    "                'objects.cantons',\n",
    "                name='topojson',\n",
    "               ).add_to(m_ch)\n",
    "m_ch"
   ]
  },
  {
   "cell_type": "code",
   "execution_count": null,
   "metadata": {},
   "outputs": [],
   "source": [
    "df.head()"
   ]
  }
 ],
 "metadata": {
  "language_info": {
   "name": "python",
   "pygments_lexer": "ipython3"
  }
 },
 "nbformat": 4,
 "nbformat_minor": 2
}
