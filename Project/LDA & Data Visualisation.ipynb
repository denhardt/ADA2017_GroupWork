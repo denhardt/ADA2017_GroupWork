{
 "cells": [
  {
   "cell_type": "code",
   "execution_count": null,
   "metadata": {},
   "outputs": [],
   "source": [
    "# External libraries used for data handling:\n",
    "import os\n",
    "import warnings\n",
    "import pandas as pd\n",
    "from datetime import datetime\n",
    "from dateutil import parser\n",
    "import pickle\n",
    "# Packages for LDA\n",
    "from gensim.models import Phrases\n",
    "from gensim.models.word2vec import LineSentence\n",
    "from gensim.models.ldamulticore import LdaMulticore\n",
    "from gensim.corpora import Dictionary, MmCorpus\n",
    "import pyLDAvis # LDA visualisation\n",
    "import pyLDAvis.gensim\n",
    "# Helper functions\n",
    "from lda_helper import *"
   ]
  },
  {
   "cell_type": "code",
   "execution_count": null,
   "metadata": {},
   "outputs": [],
   "source": [
    "# df = pd.read_csv('df_1934_to_1998_JDG.csv')\n",
    "# df = pd.read_csv('df_1826_to_1874_JDG.csv')\n",
    "df = pd.read_csv('df_GDL_all.csv')\n",
    "df2 = pd.read_csv('df_JDG_all.csv')\n",
    "df = df.append(df2)\n",
    "\n",
    "# parsing all text to strings\n",
    "df.text=df.text.apply(lambda x: str(x))\n",
    "# parsing the strings in 'date' column to a pandas Timestamp\n",
    "df.date = df.date.apply(lambda x: parser.parse(x))"
   ]
  },
  {
   "cell_type": "code",
   "execution_count": null,
   "metadata": {},
   "outputs": [],
   "source": [
    "df=df.drop(['Unnamed: 0', 'Unnamed: 0.1'],axis=1)\n",
    "df.head()"
   ]
  },
  {
   "cell_type": "code",
   "execution_count": null,
   "metadata": {},
   "outputs": [],
   "source": []
  },
  {
   "cell_type": "code",
   "execution_count": null,
   "metadata": {},
   "outputs": [],
   "source": [
    "# adding a year and month column\n",
    "df_new = pd.DataFrame(columns=['year', 'month'])\n",
    "df_new.year = df.date.apply(lambda x: datetime.strftime(x, '%Y'))\n",
    "df_new.month = df.date.apply(lambda x: datetime.strftime(x, '%m'))\n",
    "df = df.join(df_new, how='outer')"
   ]
  },
  {
   "cell_type": "code",
   "execution_count": null,
   "metadata": {},
   "outputs": [],
   "source": [
    "df.tail()\n"
   ]
  },
  {
   "cell_type": "code",
   "execution_count": null,
   "metadata": {},
   "outputs": [],
   "source": [
    "type(df.date[0])\n",
    "# Selection of articles between dates can be done like so:\n",
    "# df.date = df.date.apply(lambda x: parser.parse(x))\n",
    "# df.set_index=('date', inplace=True)\n",
    "# df[datetime(1851,1,24):datetime(1852,8,22)]"
   ]
  },
  {
   "cell_type": "markdown",
   "metadata": {},
   "source": [
    "# Latent Dirchlet Allocation\n",
    "The following files are created during this section and can be loaded to resume from a previous point:\n",
    "* dico.pickle\n",
    "* corpus.mm\n",
    "* lda_model_all\n",
    "* lda_model_all.id2word  \n",
    "* lda_model_all.expElogbeta.npy \n",
    "* lda_model_all.state\n",
    "* LDAvis_prepared"
   ]
  },
  {
   "cell_type": "code",
   "execution_count": null,
   "metadata": {},
   "outputs": [],
   "source": [
    "project_path = '/Users/robin/GIT/ADA/ADA2017_GroupWork/Project_temp/5_topics/'\n",
    "dico_fp = os.path.join(project_path, 'dico.pickle')\n",
    "lda_model_filepath = os.path.join(project_path, 'lda_model_all')\n",
    "ldavis_path = os.path.join(project_path, 'LDAvis_prepared')"
   ]
  },
  {
   "cell_type": "code",
   "execution_count": null,
   "metadata": {},
   "outputs": [],
   "source": [
    "# learn the dictionnary by iterating over all of the articles\n",
    "dico = Dictionary([article.split() for article in df.text.tolist()])\n",
    "\n",
    "# filter tokens that are very rare or too common from\n",
    "# the dictionary. Here we decided to keep all unusual tokens that\n",
    "# may appear in only one document, but to discard those that are in \n",
    "# 40% or more of the corpus\n",
    "dico.filter_extremes(no_below=0, no_above=0.4)\n",
    "\n",
    "# reassign integer lda\n",
    "dico.compactify()\n",
    "# save dictionary\n",
    "dico.save(dico_fp)"
   ]
  },
  {
   "cell_type": "code",
   "execution_count": null,
   "metadata": {},
   "outputs": [],
   "source": [
    "# load dictionary\n",
    "dico = Dictionary.load(dico_fp)"
   ]
  },
  {
   "cell_type": "code",
   "execution_count": null,
   "metadata": {},
   "outputs": [],
   "source": [
    "# generate bag-of-word representations for\n",
    "# all reviews and save them as a matrix\n",
    "\n",
    "# BoW is saved to file 'corpus.mm'\n",
    "MmCorpus.serialize(os.path.join(project_path, 'corpus.mm'),\n",
    "                       bow_generator(df.text.tolist(), dico))  "
   ]
  },
  {
   "cell_type": "code",
   "execution_count": null,
   "metadata": {},
   "outputs": [],
   "source": [
    "# load bow_corpus from file\n",
    "bow_corpus = MmCorpus(os.path.join(project_path, 'corpus.mm'))"
   ]
  },
  {
   "cell_type": "code",
   "execution_count": null,
   "metadata": {},
   "outputs": [],
   "source": [
    "len(bow_corpus)"
   ]
  },
  {
   "cell_type": "code",
   "execution_count": null,
   "metadata": {},
   "outputs": [],
   "source": [
    "# Generating and storing the LDA model\n",
    "with warnings.catch_warnings():\n",
    "    warnings.simplefilter('ignore')\n",
    "\n",
    "    # workers => sets the parallelism, and should be\n",
    "    # set to your number of physical cores minus one\n",
    "    lda = LdaMulticore(bow_corpus,\n",
    "                       num_topics=5,\n",
    "                       id2word=dico,\n",
    "                       workers=3)\n",
    "    # saving the LDA model to disk \n",
    "    lda.save(lda_model_filepath)"
   ]
  },
  {
   "cell_type": "code",
   "execution_count": null,
   "metadata": {},
   "outputs": [],
   "source": [
    "# load the finished LDA model from disk\n",
    "lda = LdaMulticore.load(lda_model_filepath)"
   ]
  },
  {
   "cell_type": "code",
   "execution_count": null,
   "metadata": {},
   "outputs": [],
   "source": [
    "LDAvis_prepared = pyLDAvis.gensim.prepare(lda, bow_corpus, dico)"
   ]
  },
  {
   "cell_type": "code",
   "execution_count": null,
   "metadata": {},
   "outputs": [],
   "source": [
    "# saving LDAvis_prepared\n",
    "with open(ldavis_path, 'wb') as file:\n",
    "    pickle.dump(LDAvis_prepared, file)"
   ]
  },
  {
   "cell_type": "code",
   "execution_count": null,
   "metadata": {},
   "outputs": [],
   "source": [
    "# loading LDAvis_prepared\n",
    "with open(ldavis_path, 'rb') as file:\n",
    "    LDAvis_prepared = pickle.load(file)"
   ]
  },
  {
   "cell_type": "code",
   "execution_count": null,
   "metadata": {},
   "outputs": [],
   "source": [
    "pyLDAvis.display(LDAvis_prepared)"
   ]
  },
  {
   "cell_type": "markdown",
   "metadata": {},
   "source": [
    "## Todo\n",
    "* map articles to their LDA topics\n",
    "* exporting graphics from pyLDAvis\n",
    "* try with 2-3 different # of topics\n",
    "* time distribution of topics -> see if we can pick out any trends\n",
    "* time distribution (year) of all votation articles\n",
    "* comparison of GDL vs JDG\n",
    "* seasonal comparison, ie. a on a month-to-month basis"
   ]
  },
  {
   "cell_type": "code",
   "execution_count": null,
   "metadata": {},
   "outputs": [],
   "source": [
    "df.text[0]"
   ]
  },
  {
   "cell_type": "code",
   "execution_count": null,
   "metadata": {},
   "outputs": [],
   "source": [
    "len(bow_corpus)\n",
    "df.shape\n",
    "dico.id2token[12800]"
   ]
  },
  {
   "cell_type": "code",
   "execution_count": null,
   "metadata": {},
   "outputs": [],
   "source": [
    "t = bow_corpus[0:5]\n",
    "len(t)\n",
    "t[0]"
   ]
  },
  {
   "cell_type": "code",
   "execution_count": null,
   "metadata": {},
   "outputs": [],
   "source": [
    "df_new = pd.DataFrame()\n",
    "for bow in bow_corpus:\n",
    "    rk = lda.get_document_topics(bow, minimum_probability=0)\n",
    "    ziped = [p[1] for p in rk]\n",
    "    df_topicscore = pd.DataFrame(ziped)\n",
    "    df_topicscore = df_topicscore.transpose()\n",
    "    df_new = df_new.append(df_topicscore)\n"
   ]
  },
  {
   "cell_type": "code",
   "execution_count": null,
   "metadata": {},
   "outputs": [],
   "source": [
    "df_new.columns = range(1, lda.num_topics+1)"
   ]
  },
  {
   "cell_type": "code",
   "execution_count": null,
   "metadata": {},
   "outputs": [],
   "source": [
    "df_new"
   ]
  },
  {
   "cell_type": "code",
   "execution_count": null,
   "metadata": {},
   "outputs": [],
   "source": [
    "lda.get_document_topics(bow_corpus[4], minimum_probability=0)"
   ]
  },
  {
   "cell_type": "code",
   "execution_count": null,
   "metadata": {},
   "outputs": [],
   "source": [
    "dfn = pd.DataFrame()\n",
    "dfn2 = pd.DataFrame(z1)\n",
    "dfn2 = dfn2.transpose()\n",
    "dfn2.head()\n",
    "dfn = dfn.append(dfn2)\n",
    "dfn.head()"
   ]
  },
  {
   "cell_type": "markdown",
   "metadata": {},
   "source": [
    "### For maximum sorting:"
   ]
  },
  {
   "cell_type": "code",
   "execution_count": null,
   "metadata": {},
   "outputs": [],
   "source": [
    "dist = lda.get_document_topics(bow_corpus[2])\n",
    "dist\n",
    "# dist = [p[1] for p in dist] # returns probabilities for reach topic\n",
    "# dist.index(max(dist))"
   ]
  },
  {
   "cell_type": "code",
   "execution_count": null,
   "metadata": {},
   "outputs": [],
   "source": [
    "dist.sort(key = (lambda x: x[1]) , reverse = True)\n"
   ]
  },
  {
   "cell_type": "code",
   "execution_count": null,
   "metadata": {},
   "outputs": [],
   "source": [
    "# df=df.drop(['Unnamed: 0','Unnamed: 0.1'],axis=1)\n",
    "df.columns"
   ]
  },
  {
   "cell_type": "code",
   "execution_count": null,
   "metadata": {},
   "outputs": [],
   "source": []
  }
 ],
 "metadata": {
  "kernelspec": {
   "display_name": "Python [conda env:ada]",
   "language": "python",
   "name": "conda-env-ada-py"
  },
  "language_info": {
   "codemirror_mode": {
    "name": "ipython",
    "version": 3
   },
   "file_extension": ".py",
   "mimetype": "text/x-python",
   "name": "python",
   "nbconvert_exporter": "python",
   "pygments_lexer": "ipython3",
   "version": "3.5.4"
  }
 },
 "nbformat": 4,
 "nbformat_minor": 2
}
