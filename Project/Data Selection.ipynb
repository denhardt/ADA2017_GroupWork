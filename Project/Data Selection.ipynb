{
 "cells": [
  {
   "cell_type": "code",
   "execution_count": 1,
   "metadata": {
    "collapsed": true
   },
   "outputs": [],
   "source": [
    "import spacy\n",
    "import pandas as pd\n",
    "from nltk.stem.snowball import FrenchStemmer"
   ]
  },
  {
   "cell_type": "code",
   "execution_count": 2,
   "metadata": {
    "collapsed": true
   },
   "outputs": [],
   "source": [
    "from lxml import etree\n",
    "from datetime import datetime"
   ]
  },
  {
   "cell_type": "code",
   "execution_count": 3,
   "metadata": {
    "collapsed": true
   },
   "outputs": [],
   "source": [
    "def month_dates(start, end):\n",
    "    f = lambda date: date.month + 12 * date.year\n",
    "\n",
    "    res = []\n",
    "    for tot_m in range(f(start)-1, f(end)):\n",
    "        y, m = divmod(tot_m, 12)\n",
    "        res.append(str(y) + '/' + '%02d' % (m+1))\n",
    "    \n",
    "    return res"
   ]
  },
  {
   "cell_type": "code",
   "execution_count": 4,
   "metadata": {
    "collapsed": true
   },
   "outputs": [],
   "source": [
    "def get_date(article):\n",
    "    \"\"\"\n",
    "    This method returns the date of the article\n",
    "    \"\"\"\n",
    "    str_date = article.find('entity').find('meta').find('issue_date').text\n",
    "    return datetime.strptime(str_date, '%d/%m/%Y')"
   ]
  },
  {
   "cell_type": "code",
   "execution_count": 5,
   "metadata": {
    "collapsed": true
   },
   "outputs": [],
   "source": [
    "def get_articles_in_file(file, start_date, end_date):\n",
    "    articles = []  \n",
    "    for article in file.iter('article'):\n",
    "        if article.find('entity') is not None:\n",
    "            a = ''\n",
    "            date = get_date(article)\n",
    "            if start_date <= date <= end_date:\n",
    "                for entity in article.iter('entity'):\n",
    "                    a += entity.findtext('full_text') + ' '\n",
    "                articles.append(date.strftime('%d/%m/%Y') + ' ' + a)\n",
    "    return articles"
   ]
  },
  {
   "cell_type": "code",
   "execution_count": 6,
   "metadata": {
    "collapsed": true
   },
   "outputs": [],
   "source": [
    "def get_articles(path, start_date, end_date):\n",
    "    articles = []\n",
    "    for m_date in month_dates(start_date, end_date):\n",
    "        try:\n",
    "            file = etree.parse(path + m_date + '.xml')\n",
    "            articles.append(get_articles_in_file(file, start_date, end_date))\n",
    "        except (FileNotFoundError, IOError):\n",
    "            pass\n",
    "    return [a for file in articles for a in file]  "
   ]
  },
  {
   "cell_type": "code",
   "execution_count": 7,
   "metadata": {
    "collapsed": true
   },
   "outputs": [],
   "source": [
    "path = '/home/mbanga/Desktop/JDG/'\n",
    "start_date =  datetime(1990, 1, 1)\n",
    "end_date = datetime(1990, 1, 31)"
   ]
  },
  {
   "cell_type": "code",
   "execution_count": 8,
   "metadata": {
    "collapsed": true
   },
   "outputs": [],
   "source": [
    "articles = get_articles(path, start_date, end_date)"
   ]
  },
  {
   "cell_type": "code",
   "execution_count": 9,
   "metadata": {},
   "outputs": [
    {
     "data": {
      "text/plain": [
       "3434"
      ]
     },
     "execution_count": 9,
     "metadata": {},
     "output_type": "execute_result"
    }
   ],
   "source": [
    "len(articles)"
   ]
  },
  {
   "cell_type": "code",
   "execution_count": 10,
   "metadata": {
    "collapsed": true
   },
   "outputs": [],
   "source": [
    "nlp = fr_core_news_sm.load()"
   ]
  },
  {
   "cell_type": "code",
   "execution_count": 99,
   "metadata": {
    "collapsed": true
   },
   "outputs": [],
   "source": [
    "from gensim.models import Phrases\n",
    "from gensim.models.word2vec import LineSentence\n",
    "\n",
    "import fr_core_news_sm\n",
    "import enchant"
   ]
  },
  {
   "cell_type": "code",
   "execution_count": 15,
   "metadata": {
    "collapsed": true
   },
   "outputs": [],
   "source": [
    "def punct_space(token):\n",
    "    \"\"\"\n",
    "    helper function to eliminate tokens\n",
    "    that are pure punctuaiton or whitespace\n",
    "    \"\"\"\n",
    "    \n",
    "    return token.is_punct or token.is_space"
   ]
  },
  {
   "cell_type": "code",
   "execution_count": 101,
   "metadata": {
    "collapsed": true
   },
   "outputs": [],
   "source": [
    "def is_french(word):\n",
    "    \"\"\"\n",
    "    helper function to eliminate tokens that\n",
    "    are not french words.\n",
    "    \"\"\"\n",
    "    d = enchant.Dict('fr_FR')\n",
    "    return d.check(word)"
   ]
  },
  {
   "cell_type": "code",
   "execution_count": 97,
   "metadata": {
    "collapsed": true
   },
   "outputs": [],
   "source": [
    "def lemmatized_sentence_corpus(corpus):\n",
    "    \"\"\"\n",
    "    generator function to use spaCy to parse reviews,\n",
    "    lemmatize the text, and yield sentences\n",
    "    \"\"\"\n",
    "    j = 0\n",
    "    i = 0\n",
    "    for parsed_article in nlp.pipe(corpus, \n",
    "                                   batch_size=50, n_threads=1):\n",
    "        \n",
    "        date = parsed_article[0].text + ' '\n",
    "        yield date + u' '.join([token.lemma_ for token in parsed_article\n",
    "                             if not punct_space(token) and is_french(token.text)])"
   ]
  },
  {
   "cell_type": "code",
   "execution_count": 98,
   "metadata": {
    "scrolled": false
   },
   "outputs": [
    {
     "name": "stdout",
     "output_type": "stream",
     "text": [
      "01/01/1990 le panama comme tremplin le panama avoir jamais être prendre très au sérieux par son voisin latin dans ce pays créer au début du siècle autour un canal et un chapeau dont indépendance formel être rester aléatoire on parler largement américain le dollar servir de monnayer national et le troupe américain intervenir quarante foi en cent an la quarante et unième foi injustifiable sur le plan du droit international être néanmoins entourer un série de circonstance atténuant à commencer par le régime inique que subir isthme sou le général il falloir ajouter en renverser ce régime par un coup de forcer qui avoir prendre soin éviter le victime civil le américains avoir accomplir lui boire principal ils se être ré de surcroît selon le reportage 10- le reconnaissance un le plaire difficile en matière militaire être cependant de décrocher et chaque jour qui passer rendre opération plaire critiquer si comme en le partisan du dictateur déposer se regrouper et harceler le fragile autorité civil le risquer de lutte 1-drogue en outrer le pression en courir sur le nonciature où être son lu mauvais rester grand seul oeil un ion or le curer sinon le hiérarchie combattre justement le modernisation américanisation un société lui accroissement un injustice social dépourvu international le panama apparaître ainsi comme ce il être géographiquement le délicat articulation entrer le nord et le sud du continent le creuset où le rationalité us pragmatique et néanmoins conquérant se transmuer partiellement en un sentiment homme au visage grêler être bien le produire de ce relation léonin entrer le géant du nord et son annexer sur le canal activiste et informer avoir être largement fabriquer par le pentagone et le service de renseignement au voir de son la crapule international être fait tout seul mai être sou le oeil américain lui avoir commencer à toucher argent de le droguer et à le laver dan le banque pana- ensuite le recourir à le magie noir brésilien et à amitié cubain contrer le pression de suivre du refuge final dan le bras un il avoir maltraiter achever un itinéraire emblématique de latin fidèle à son vocation protecteur le ne livrer pas aux quel que être le vérité juridique du dossier mais déjà opération servir à ton de tremplin ver un objectif plaire fondamental dan le sous-continent le répression du trafic de droguer panama comme cuba naguère et le ouvrir largement son pister à atterrissage un avionnette charger de le cocaïne forts de le capturer récent fi en 0 le un un et maintenir du renversement de le unis vouloir pousser lui avantager ils envisager donc au large de le un escadre de surveillance aérien pour intercepter transport au sud dan le pays concerner le gros bâton et grand de à le le mai le discourir américain passer moins bien agir schématiquement de faire prix fort aux pays producteur sans que du côté de le consommation un effort comparable de prévention être entreprendre cette nouveau variation sur économie de offrir imposer mai ne convaincre pas \n",
      "\n",
      "01/01/1990 ambassadeur et traire union tout par ancien attacher militaire à damas pouvoir à représenter en depuis dix être à dire depuis début un relation tiquer entrer le deux pays le diplomate avoir savoir recycler le hélicoptère guerrier de jadis événement avoir lieu chaque 22 juillet lors de le de le téter national égyptien dan le jardins un grand hôtel de tel les être en livrer par hélicoptère aux cinq mille inviter convier à ce soirée grandiose beaucoup ami être que notre ambassadeur un petit homme grisonner un cinquantaine année légèrement enrober mai toujours vif avoir beaucoup ami même il luire être arriver de recevoir un menacer contrer son personne il de suivre le symbole de le préciser que 90 de le politique étranger du présider être consacrer à encourager le paix entrer le israéliens et le il avoir que tout recevoir tien tout écouter les israéliens abord toute tendance confondu a preuve le de plaquer et autre médaille souvenir libeller en hébreu qui orner le bureau du diplomate je jouer franc-jeu je tien le même discourir aux un et aux autre aux israéliens comme aux palestiniens le rôle de aller en effet plaire loin que celui un simple ambassadeur entrer deux et il être un peu homme de confiance un palestiniens je le recevoir dan mon de tel je visiter régulièrement le territoire occuper je rouler en voiturer officiel les gens se connaître et se reconnaître ces jour ci ambassadeur remettre un foi encore ouvrager sur le métier car dan quelque semaine le ministre un affaires étranger un et devoir se réunir à washington pour régler le condition du dialoguer palestinien le dialoguer enfin pour ce dialoguer palestinien être comme on en parler sans cesser maison ne le voir jamais être pas opinion de damer se avoir être aussi proche un amorcer réel yu être beau- coup il poursuivre on parler tout le un difficulté que présenter le composition de le palestinien mai à vérité le question crucial être ailleurs la terrer contrer le paix rendre un territoire en échanger de le paix voici ce que le gouvernement israélien avoir pas encore accepter être dangereux car il se falloir faire vite si se ne vouloir pas que le extrémiste de tout bord se rattraper et faire basculer histoire son ton devenir graver si se manquer le chance qui se être donner aujourd'huie notre enfant ne se ne le pardonner pas les nombreux livrer en hébreu qui composer le bibliothèque de ambassadeur dater du temps où il être chef un renseignements de armer égyptien sur le question israélien la mentalité un israéliens hypersensibilité un juifs lui obsession de le sécurité connaître il prendre a son oeil un confédération être probablement le seul compromettre possible vers le confédération peut-être mais pourquoi pourquoi un palestinien indépendant et grand comme un pocher 7 et sans douter désarmer faire il si peur à un pourquoi préférer à un voisin le grand territoire un confédération serait ce parce il être plaire facile de partir un grand ici le confédération palestinien que le totalité un petit ici palestinien en effet un exigence de sécurité israélien lors de le signature de paix avec le sabler du être démilitariser ordre décroître de le frontière au canal de suez ambassadeur après le proclamation et par un palestinien pouvoir on vraiment croire encore à idée un confédération palestinien oui palestinien en décider lui-même ainsi et ambassadeur nier rappeler il yu avoir pas en 1985 et le roi de avoir tout deux souscrire à ce projet honte à lui dan le dédale un arabesque moyen-orientales avoir faillir oublier \n",
      "\n"
     ]
    }
   ],
   "source": [
    "for lem in lemmatized_sentence_corpus(articles[:2]):\n",
    "    print(lem, '\\n')"
   ]
  },
  {
   "cell_type": "code",
   "execution_count": 104,
   "metadata": {},
   "outputs": [
    {
     "name": "stdout",
     "output_type": "stream",
     "text": [
      "ADV   False\n",
      "PUNCT   False\n",
      "PRON   True\n",
      "AUX   True\n",
      "VERB   False\n",
      "VERB   False\n",
      "DET   True\n",
      "NOUN   False\n",
      "ADP   True\n",
      "DET   True\n",
      "NOUN   False\n"
     ]
    }
   ],
   "source": [
    "text = ['Hier, je suis allé mangé des pommes avec les frères', \n",
    "        'Je ne sais pas quoi fera pour gamins violente']\n",
    "\n",
    "for token in nlp(text[0]):\n",
    "    print(token.pos_, ' ', token.is_stop)"
   ]
  }
 ],
 "metadata": {
  "kernelspec": {
   "display_name": "Python 3",
   "language": "python",
   "name": "python3"
  },
  "language_info": {
   "codemirror_mode": {
    "name": "ipython",
    "version": 3
   },
   "file_extension": ".py",
   "mimetype": "text/x-python",
   "name": "python",
   "nbconvert_exporter": "python",
   "pygments_lexer": "ipython3",
   "version": "3.6.1"
  }
 },
 "nbformat": 4,
 "nbformat_minor": 2
}
