{
 "cells": [
  {
   "cell_type": "code",
   "execution_count": null,
   "metadata": {},
   "outputs": [],
   "source": [
    "import seaborn as sns\n",
    "import pandas as pd\n",
    "%pylab inline"
   ]
  },
  {
   "cell_type": "code",
   "execution_count": null,
   "metadata": {},
   "outputs": [],
   "source": [
    "df_lalonde = pd.read_csv(r'lalonde.csv')\n",
    "df_lalonde.head()"
   ]
  },
  {
   "cell_type": "code",
   "execution_count": null,
   "metadata": {},
   "outputs": [],
   "source": [
    "df_lalonde.describe()"
   ]
  },
  {
   "cell_type": "code",
   "execution_count": null,
   "metadata": {},
   "outputs": [],
   "source": [
    "df_treat = df_lalonde[df_lalonde['treat']==1]\n",
    "df_notreat = df_lalonde[df_lalonde['treat']==0]\n",
    "\n",
    "fig, axes = plt.subplots(1, 2, sharey=True)\n",
    "df_treat.re78.plot(kind='hist', ax=axes[0])\n",
    "df_notreat.re78.plot(kind='hist', ax=axes[1])\n",
    "print(df_lalonde[df_lalonde['treat']==1].re78.describe())\n",
    "df_notreat.re78.describe()"
   ]
  },
  {
   "cell_type": "markdown",
   "metadata": {},
   "source": [
    "We can see some interesting trends if we start correlating the different characteristics within the groups."
   ]
  },
  {
   "cell_type": "code",
   "execution_count": null,
   "metadata": {},
   "outputs": [],
   "source": [
    "fig, axes = plt.subplots(1, 2, figsize=(16, 6))\n",
    "# todo: choose better color scheme\n",
    "\n",
    "sns.heatmap(df_treat.corr(method='spearman').values, ax=axes[0], center=0, \n",
    "            xticklabels=df_treat.columns[1:], yticklabels=df_lalonde.columns[1:])\n",
    "sns.heatmap(df_notreat.corr(method='spearman').values, ax=axes[1], center=0, \n",
    "            xticklabels=df_notreat.columns[1:], yticklabels=df_lalonde.columns[1:])"
   ]
  },
  {
   "cell_type": "code",
   "execution_count": null,
   "metadata": {},
   "outputs": [],
   "source": [
    "sns.heatmap(df_lalonde.corr().values, center=0, \n",
    "            xticklabels=df_lalonde.columns[1:], yticklabels=df_lalonde.columns[1:])"
   ]
  },
  {
   "cell_type": "code",
   "execution_count": null,
   "metadata": {},
   "outputs": [],
   "source": []
  }
 ],
 "metadata": {
  "language_info": {
   "name": "python",
   "pygments_lexer": "ipython3"
  }
 },
 "nbformat": 4,
 "nbformat_minor": 2
}
